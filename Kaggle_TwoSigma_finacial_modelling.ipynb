{
  "nbformat": 4,
  "nbformat_minor": 0,
  "metadata": {
    "colab": {
      "name": "Kaggle_TwoSigma_finacial_modelling.ipynb",
      "version": "0.3.2",
      "provenance": [],
      "collapsed_sections": [],
      "include_colab_link": true
    },
    "kernelspec": {
      "name": "python3",
      "display_name": "Python 3"
    },
    "accelerator": "GPU"
  },
  "cells": [
    {
      "cell_type": "markdown",
      "metadata": {
        "id": "view-in-github",
        "colab_type": "text"
      },
      "source": [
        "<a href=\"https://colab.research.google.com/github/manojjjm/MachineLearning/blob/master/Kaggle_TwoSigma_finacial_modelling.ipynb\" target=\"_parent\"><img src=\"https://colab.research.google.com/assets/colab-badge.svg\" alt=\"Open In Colab\"/></a>"
      ]
    },
    {
      "metadata": {
        "id": "j4GZ6WbfjYDo",
        "colab_type": "code",
        "outputId": "7f9c2643-9e4f-4282-fdf7-b63afc84a87b",
        "colab": {
          "base_uri": "https://localhost:8080/",
          "height": 34
        }
      },
      "cell_type": "code",
      "source": [
        "from google.colab import drive\n",
        "drive.mount('/content/drive')\n"
      ],
      "execution_count": 0,
      "outputs": [
        {
          "output_type": "stream",
          "text": [
            "Mounted at /content/drive\n"
          ],
          "name": "stdout"
        }
      ]
    },
    {
      "metadata": {
        "colab_type": "code",
        "id": "hV6l_1YvMl9G",
        "colab": {}
      },
      "cell_type": "code",
      "source": [
        "#1 - List the dataset"
      ],
      "execution_count": 0,
      "outputs": []
    },
    {
      "metadata": {
        "colab_type": "code",
        "id": "IKj49bQqMl9D",
        "colab": {}
      },
      "cell_type": "code",
      "source": [
        "#2 - Convert data to pandas dataframe"
      ],
      "execution_count": 0,
      "outputs": []
    },
    {
      "metadata": {
        "colab_type": "code",
        "id": "rz3S9_vwMl88",
        "colab": {}
      },
      "cell_type": "code",
      "source": [
        "#3 - how big is our dataset?"
      ],
      "execution_count": 0,
      "outputs": []
    },
    {
      "metadata": {
        "colab_type": "code",
        "id": "ze-8Y25tMl81",
        "colab": {}
      },
      "cell_type": "code",
      "source": [
        "#4 - Examine the dataset"
      ],
      "execution_count": 0,
      "outputs": []
    },
    {
      "metadata": {
        "colab_type": "code",
        "id": "XP6dIyJDMl8u",
        "colab": {}
      },
      "cell_type": "code",
      "source": [
        "#5 - how many labels and values do we have? "
      ],
      "execution_count": 0,
      "outputs": []
    },
    {
      "metadata": {
        "colab_type": "code",
        "id": "vMXZriG4Ml8a",
        "colab": {}
      },
      "cell_type": "code",
      "source": [
        "#6 - How much missing data do we have?"
      ],
      "execution_count": 0,
      "outputs": []
    },
    {
      "metadata": {
        "colab_type": "code",
        "id": "NwfG-dOLMl8L",
        "colab": {}
      },
      "cell_type": "code",
      "source": [
        "#7 - Counts for each timestep in the data"
      ],
      "execution_count": 0,
      "outputs": []
    },
    {
      "metadata": {
        "colab_type": "code",
        "id": "jDcIFO5rMl71",
        "colab": {}
      },
      "cell_type": "code",
      "source": [
        "#8 - Unique Assets"
      ],
      "execution_count": 0,
      "outputs": []
    },
    {
      "metadata": {
        "id": "i5D6NnGCl3m4",
        "colab_type": "code",
        "colab": {}
      },
      "cell_type": "code",
      "source": [
        "import os\n",
        "import pandas as pd\n",
        "import numpy as np\n",
        "from sklearn.metrics import r2_score\n",
        "\n",
        "# This is taken from Frans Slothoubers post on the contest discussion forum.\n",
        "# https://www.kaggle.com/slothouber/two-sigma-financial-modeling/kagglegym-emulation\n",
        "\n",
        "\n",
        "def r_score(y_true, y_pred, sample_weight=None, multioutput=None):\n",
        "    r2 = r2_score(y_true, y_pred, sample_weight=sample_weight,\n",
        "                  multioutput=multioutput)\n",
        "    r = (np.sign(r2)*np.sqrt(np.abs(r2)))\n",
        "    if r <= -1:\n",
        "        return -1\n",
        "    else:\n",
        "        return r"
      ],
      "execution_count": 0,
      "outputs": []
    },
    {
      "metadata": {
        "id": "efnVpoVi6LS7",
        "colab_type": "text"
      },
      "cell_type": "markdown",
      "source": [
        ""
      ]
    },
    {
      "metadata": {
        "id": "dv72AHnByllk",
        "colab_type": "code",
        "colab": {}
      },
      "cell_type": "code",
      "source": [
        "class Observation(object):\n",
        "    def __init__(self, train, target, features):\n",
        "        self.train = train\n",
        "        self.target = target\n",
        "        self.features = features\n",
        "\n",
        "\n",
        "class Environment(object):\n",
        "    def __init__(self):\n",
        "        with pd.HDFStore(\"/content/drive/My Drive/train.h5\", \"r\") as hfdata:\n",
        "            self.timestamp = 0\n",
        "            fullset = hfdata.get(\"train\")\n",
        "            self.unique_timestamp = fullset[\"timestamp\"].unique()\n",
        "            # Get a list of unique timestamps\n",
        "            # use the first half for training and\n",
        "            # the second half for the test set\n",
        "            n = len(self.unique_timestamp)\n",
        "            i = int(n/2)\n",
        "            timesplit = self.unique_timestamp[i]\n",
        "            self.n = n\n",
        "            self.unique_idx = i\n",
        "            self.train = fullset[fullset.timestamp < timesplit]\n",
        "            self.test = fullset[fullset.timestamp >= timesplit]\n",
        "\n",
        "            # Needed to compute final score\n",
        "            self.full = self.test.loc[:, ['timestamp', 'y']]\n",
        "            self.full['y_hat'] = 0.0\n",
        "            self.temp_test_y = None\n",
        "\n",
        "    def reset(self):\n",
        "        timesplit = self.unique_timestamp[self.unique_idx]\n",
        "\n",
        "        self.unique_idx = int(self.n / 2)\n",
        "        self.unique_idx += 1\n",
        "        subset = self.test[self.test.timestamp == timesplit]\n",
        "\n",
        "        # reset index to conform to how kagglegym works\n",
        "        target = subset.loc[:, ['id', 'y']].reset_index(drop=True)\n",
        "        self.temp_test_y = target['y']\n",
        "\n",
        "        target.loc[:, 'y'] = 0.0  # set the prediction column to zero\n",
        "\n",
        "        # changed bounds to 0:110 from 1:111 to mimic the behavior\n",
        "        # of api for feature\n",
        "        features = subset.iloc[:, :110].reset_index(drop=True)\n",
        "\n",
        "        observation = Observation(self.train, target, features)\n",
        "        return observation\n",
        "\n",
        "    def step(self, target):\n",
        "        timesplit = self.unique_timestamp[self.unique_idx-1]\n",
        "        # Since full and target have a different index we need\n",
        "        # to do a _values trick here to get the assignment working\n",
        "        y_hat = target.loc[:, ['y']]\n",
        "        self.full.loc[self.full.timestamp == timesplit, ['y_hat']] = y_hat._values\n",
        "\n",
        "        if self.unique_idx == self.n:\n",
        "            done = True\n",
        "            observation = None\n",
        "            reward = r_score(self.temp_test_y, target.loc[:, 'y'])\n",
        "            score = r_score(self.full['y'], self.full['y_hat'])\n",
        "            info = {'public_score': -score}\n",
        "        else:\n",
        "            reward = r_score(self.temp_test_y, target.loc[:, 'y'])\n",
        "            done = False\n",
        "            info = {}\n",
        "            timesplit = self.unique_timestamp[self.unique_idx]\n",
        "            self.unique_idx += 1\n",
        "            subset = self.test[self.test.timestamp == timesplit]\n",
        "\n",
        "            # reset index to conform to how kagglegym works\n",
        "            target = subset.loc[:, ['id', 'y']].reset_index(drop=True)\n",
        "            self.temp_test_y = target['y']\n",
        "\n",
        "            # set the prediction column to zero\n",
        "            target.loc[:, 'y'] = 0\n",
        "\n",
        "            # column bound change on the subset\n",
        "            # reset index to conform to how kagglegym works\n",
        "            features = subset.iloc[:, 0:110].reset_index(drop=True)\n",
        "\n",
        "            observation = Observation(self.train, target, features)\n",
        "\n",
        "        return observation, reward, done, info\n",
        "\n",
        "    def __str__(self):\n",
        "        return \"Environment()\""
      ],
      "execution_count": 0,
      "outputs": []
    },
    {
      "metadata": {
        "id": "trVF22fqnl70",
        "colab_type": "code",
        "colab": {}
      },
      "cell_type": "code",
      "source": [
        "#9 Agent Environment Loop"
      ],
      "execution_count": 0,
      "outputs": []
    },
    {
      "metadata": {
        "id": "WBlXpYBtmSAM",
        "colab_type": "code",
        "outputId": "61685106-f8cd-44e8-d11d-d7fa2cd111c3",
        "colab": {
          "base_uri": "https://localhost:8080/",
          "height": 51
        }
      },
      "cell_type": "code",
      "source": [
        "#10 test it! "
      ],
      "execution_count": 0,
      "outputs": [
        {
          "output_type": "stream",
          "text": [
            "968\n",
            "806298\n"
          ],
          "name": "stdout"
        }
      ]
    }
  ]
}