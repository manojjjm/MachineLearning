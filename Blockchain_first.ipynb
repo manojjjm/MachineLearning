{
  "nbformat": 4,
  "nbformat_minor": 0,
  "metadata": {
    "colab": {
      "name": "Blockchain_first.ipynb",
      "version": "0.3.2",
      "provenance": [],
      "collapsed_sections": [],
      "include_colab_link": true
    },
    "kernelspec": {
      "name": "python3",
      "display_name": "Python 3"
    }
  },
  "cells": [
    {
      "cell_type": "markdown",
      "metadata": {
        "id": "view-in-github",
        "colab_type": "text"
      },
      "source": [
        "[View in Colaboratory](https://colab.research.google.com/github/manojjjm/MachineLearning/blob/master/Blockchain_first.ipynb)"
      ]
    },
    {
      "metadata": {
        "id": "M6w1eouCkgEU",
        "colab_type": "code",
        "colab": {}
      },
      "cell_type": "code",
      "source": [
        "#import dependency\n",
        "#create block\n",
        "# create a block chain\n",
        "# print out the block chain "
      ],
      "execution_count": 0,
      "outputs": []
    },
    {
      "metadata": {
        "id": "Z-paguGMlE1l",
        "colab_type": "code",
        "colab": {}
      },
      "cell_type": "code",
      "source": [
        "import datetime\n",
        "import hashlib"
      ],
      "execution_count": 0,
      "outputs": []
    },
    {
      "metadata": {
        "id": "vNrZaL-DlNHz",
        "colab_type": "code",
        "colab": {}
      },
      "cell_type": "code",
      "source": [
        "# defining the block data structure\n",
        "# each block has 7 attributes\n",
        "# 1. number of blocks\n",
        "# 2. data stored in block\n",
        "# 3. pointer to next block\n",
        "# 4. The hash of this block (unique identifier and mainain the integrity of the block )\n",
        "# 5. A NONCE is a number which is used only once\n",
        "# 6. store the hash id of the previous block\n",
        "# 7. timestamp\n",
        "\n",
        "class Block:\n",
        "  blockNo=0\n",
        "  data =None\n",
        "  next=None\n",
        "  hash=None\n",
        "  nonce= 0\n",
        "  previous_hash =0x0\n",
        "  timestamp=datetime.datetime.now()\n",
        "  def __inint__(self,data):\n",
        "    self.data=data\n",
        "  def hash(self):\n",
        "    h=hashlib.sha256()\n",
        "    h.upadte(\n",
        "    str(self.nonce).encode('utf-8')+\n",
        "    str(self.data).encode('utf-8')+\n",
        "    str(self.previous_hash).encode('utf-8')+\n",
        "    str(self.timestamp).encode('utf-8')+\n",
        "    str(self.blockNo).encode('utf-8')\n",
        "    )\n",
        "    return h.hexidigest()\n",
        "  def __str__(self):\n",
        "    return \"Block Hash :\" +str(self.hash())+\"\\nBlockNO:\" + str(self.blockNo)\n",
        "  \n",
        "  "
      ],
      "execution_count": 0,
      "outputs": []
    },
    {
      "metadata": {
        "id": "W62534a5pTIy",
        "colab_type": "code",
        "colab": {
          "base_uri": "https://localhost:8080/",
          "height": 350
        },
        "outputId": "5a4ff056-8052-42ef-ed07-9a2ae0896fc9"
      },
      "cell_type": "code",
      "source": [
        "#defining the blockchain datastructure\n",
        "#consists of 'blocks' linked together\n",
        "#to form a 'chain'. Thats why its called\n",
        "#'blockchain'\n",
        "class Blockchain:\n",
        "    \n",
        "    #mining difficulty\n",
        "    diff = 20\n",
        "    #2^32. This is the maximum number\n",
        "    #we can store in a 32-bit number\n",
        "    maxNonce = 2**32\n",
        "    #target hash, for mining\n",
        "    target = 2 ** (256-diff)\n",
        "\n",
        "    #generates the first block in the blockchain\n",
        "    #this is called the 'genesis block'\n",
        "    block = Block(\"Genesis\")\n",
        "    #sets it as the head of our blockchain\n",
        "    head = block\n",
        "\n",
        "    #adds a given block to the chain of blocks\n",
        "    #the block to be added is the only parameter\n",
        "    def add(self, block):\n",
        "        \n",
        "        #set the hash of a given block\n",
        "        #as our new block's previous hash\n",
        "        block.previous_hash = self.block.hash()\n",
        "        #set the block # of our new block\n",
        "        #as the given block's # + 1, since\n",
        "        #its next in the chain\n",
        "        block.blockNo = self.block.blockNo + 1\n",
        "\n",
        "        #set the next block equal to \n",
        "        #itself. This is the new head \n",
        "        #of the blockchain\n",
        "        self.block.next = block\n",
        "        self.block = self.block.next\n",
        "\n",
        "    #Determines whether or not we can add a given block to\n",
        "    #the blockchain\n",
        "    def mine(self, block):\n",
        "        #from 0 to 2^32 \n",
        "        for n in range(self.maxNonce):\n",
        "            #is the value of the given block's hash less than our target value?\n",
        "            if int(block.hash(), 16) <= self.target:\n",
        "                #if it is,\n",
        "                #add the block to the chain\n",
        "                self.add(block)\n",
        "                print(block)\n",
        "                break\n",
        "            else:\n",
        "                block.nonce += 1\n",
        "   \n",
        "    ## Show demo 3 ! Mine a block\n",
        "      "
      ],
      "execution_count": 7,
      "outputs": [
        {
          "output_type": "error",
          "ename": "TypeError",
          "evalue": "ignored",
          "traceback": [
            "\u001b[0;31m---------------------------------------------------------------------------\u001b[0m",
            "\u001b[0;31mTypeError\u001b[0m                                 Traceback (most recent call last)",
            "\u001b[0;32m<ipython-input-7-c8917a13f54d>\u001b[0m in \u001b[0;36m<module>\u001b[0;34m()\u001b[0m\n\u001b[0;32m----> 1\u001b[0;31m \u001b[0;32mclass\u001b[0m \u001b[0mBlockchain\u001b[0m\u001b[0;34m:\u001b[0m\u001b[0;34m\u001b[0m\u001b[0m\n\u001b[0m\u001b[1;32m      2\u001b[0m \u001b[0;34m\u001b[0m\u001b[0m\n\u001b[1;32m      3\u001b[0m     \u001b[0;31m#mining difficulty\u001b[0m\u001b[0;34m\u001b[0m\u001b[0;34m\u001b[0m\u001b[0m\n\u001b[1;32m      4\u001b[0m     \u001b[0mdiff\u001b[0m \u001b[0;34m=\u001b[0m \u001b[0;36m20\u001b[0m\u001b[0;34m\u001b[0m\u001b[0m\n\u001b[1;32m      5\u001b[0m     \u001b[0;31m#2^32. This is the maximum number\u001b[0m\u001b[0;34m\u001b[0m\u001b[0;34m\u001b[0m\u001b[0m\n",
            "\u001b[0;32m<ipython-input-7-c8917a13f54d>\u001b[0m in \u001b[0;36mBlockchain\u001b[0;34m()\u001b[0m\n\u001b[1;32m     11\u001b[0m     \u001b[0;31m#generates the first block in the blockchain\u001b[0m\u001b[0;34m\u001b[0m\u001b[0;34m\u001b[0m\u001b[0m\n\u001b[1;32m     12\u001b[0m     \u001b[0;31m#this is called the 'genesis block'\u001b[0m\u001b[0;34m\u001b[0m\u001b[0;34m\u001b[0m\u001b[0m\n\u001b[0;32m---> 13\u001b[0;31m     \u001b[0mblock\u001b[0m \u001b[0;34m=\u001b[0m \u001b[0mBlock\u001b[0m\u001b[0;34m(\u001b[0m\u001b[0;34m\"Genesis\"\u001b[0m\u001b[0;34m)\u001b[0m\u001b[0;34m\u001b[0m\u001b[0m\n\u001b[0m\u001b[1;32m     14\u001b[0m     \u001b[0;31m#sets it as the head of our blockchain\u001b[0m\u001b[0;34m\u001b[0m\u001b[0;34m\u001b[0m\u001b[0m\n\u001b[1;32m     15\u001b[0m     \u001b[0mhead\u001b[0m \u001b[0;34m=\u001b[0m \u001b[0mblock\u001b[0m\u001b[0;34m\u001b[0m\u001b[0m\n",
            "\u001b[0;31mTypeError\u001b[0m: object() takes no parameters"
          ]
        }
      ]
    },
    {
      "metadata": {
        "id": "-YGsr13ltwBS",
        "colab_type": "code",
        "colab": {}
      },
      "cell_type": "code",
      "source": [
        "#initialize blockchain\n",
        "blockchain = Blockchain()\n",
        "\n",
        "#mine 10 blocks\n",
        "for n in range(10):\n",
        "    blockchain.mine(Block(\"Block \" + str(n+1)))\n",
        "    \n",
        "#print out each block in the blockchain\n",
        "while blockchain.head != None:\n",
        "    print(blockchain.head)\n",
        "    blockchain.head = blockchain.head.next"
      ],
      "execution_count": 0,
      "outputs": []
    }
  ]
}